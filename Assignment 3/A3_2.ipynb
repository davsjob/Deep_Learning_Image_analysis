{
 "cells": [
  {
   "cell_type": "markdown",
   "metadata": {},
   "source": [
    "## 2: Segmentation of Biomedical Images\n"
   ]
  },
  {
   "cell_type": "code",
   "execution_count": 15,
   "metadata": {},
   "outputs": [],
   "source": [
    "import torch\n",
    "from torch import nn\n",
    "import matplotlib.pyplot as plt\n",
    "import numpy as np\n",
    "from time import time\n",
    "import glob\n",
    "import imageio.v2 as imageio\n",
    "\n",
    "np.random.seed(16)"
   ]
  },
  {
   "cell_type": "markdown",
   "metadata": {},
   "source": [
    "### Plotting and training functions"
   ]
  },
  {
   "cell_type": "code",
   "execution_count": 26,
   "metadata": {},
   "outputs": [],
   "source": [
    "def training_curve_plot(title, train_losses, test_losses, train_accuracy, test_accuracy):\n",
    "    \"\"\" \n",
    "    convenience function for plotting train and test loss and accuracy\n",
    "    \"\"\"\n",
    "    lg=13\n",
    "    md=8\n",
    "    sm=7\n",
    "    fig, axs = plt.subplots(1, 2, figsize=(10, 4))\n",
    "    fig.suptitle(title, fontsize=md)\n",
    "    x = range(1, len(train_losses)+1)\n",
    "    axs[0].plot(x, train_losses, label=f'Final train loss: {train_losses[-1]:.4f}')\n",
    "    axs[0].plot(x, test_losses, label=f'Final test loss: {test_losses[-1]:.4f}')\n",
    "    axs[0].set_title('Losses', fontsize=md)\n",
    "    axs[0].set_xlabel('Iteration', fontsize=md)\n",
    "    axs[0].set_ylabel('Loss', fontsize=md)\n",
    "    axs[0].legend(fontsize=sm)\n",
    "    axs[0].tick_params(axis='both', labelsize=sm)\n",
    "    # Optionally use a logarithmic y-scale\n",
    "    #axs[0].set_yscale('log')\n",
    "    axs[0].grid(True, which=\"both\", linestyle='--', linewidth=0.5)\n",
    "    axs[1].plot(x, train_accuracy, label=f'Final train dice: {train_accuracy[-1]:.4f}%')\n",
    "    axs[1].plot(x, test_accuracy, label=f'Final test dice: {test_accuracy[-1]:.4f}%')\n",
    "    axs[1].set_title('dice', fontsize=md)\n",
    "    axs[1].set_xlabel('Iteration', fontsize=md)\n",
    "    axs[1].set_ylabel('dice (%)', fontsize=sm)\n",
    "    axs[1].legend(fontsize=sm)\n",
    "    axs[1].tick_params(axis='both', labelsize=sm)\n",
    "    axs[1].grid(True, which=\"both\", linestyle='--', linewidth=0.5)\n",
    "    plt.show()"
   ]
  },
  {
   "cell_type": "code",
   "execution_count": 27,
   "metadata": {},
   "outputs": [],
   "source": [
    "def dice_coefficient(outputs, targets):\n",
    "    eps = 1e-8\n",
    "    intersection = torch.sum(abs(outputs) * abs(targets))\n",
    "    union = torch.sum(outputs) + torch.sum(targets)\n",
    "    dice = (2. * intersection) / abs(union + eps)\n",
    "    return dice\n",
    "\n",
    "def train_network(model: nn.Module, criteria: nn.Module, \n",
    "                  optimizer: torch.optim.Optimizer, num_epochs: int, train_loader: torch.utils.data.DataLoader, \n",
    "                  test_loader: torch.utils.data.DataLoader, device: torch.device, model_name: str, lr: float) -> None:\n",
    "    \"\"\"\n",
    "    Train a neural network model\n",
    "    \n",
    "    Args:\n",
    "        model: The neural network model to be trained\n",
    "        criteria: The loss function\n",
    "        optimizer: The optimizer\n",
    "        num_epochs: The number of epochs to train the model\n",
    "        train_loader: The training data loader\n",
    "        test_loader: The test data loader\n",
    "        device: The device to run the model on\n",
    "    \"\"\"\n",
    "    train_losses = []\n",
    "    test_losses = []\n",
    "    train_dice_scores = []\n",
    "    test_dice_scores = []\n",
    "    start = time()\n",
    "    for epoch in range(num_epochs):\n",
    "        model.train()\n",
    "        train_loss = 0\n",
    "        train_dice = 0\n",
    "\n",
    "        for i, (images, labels) in enumerate(train_loader):\n",
    "            images, labels = images.to(device), labels.to(device)\n",
    "            optimizer.zero_grad()\n",
    "            outputs = model(images)\n",
    "            loss = criteria(outputs, labels)\n",
    "            train_loss += loss.item()\n",
    "            loss.backward()\n",
    "            optimizer.step()\n",
    "\n",
    "            # Calculate Dice score\n",
    "            outputs = (outputs > 0.5).float()\n",
    "            dice = dice_coefficient(outputs, labels)\n",
    "            train_dice += dice.item()\n",
    "        \n",
    "        train_losses.append(train_loss / len(train_loader))\n",
    "        train_dice_scores.append(train_dice / len(train_loader))\n",
    "    \n",
    "        model.eval()\n",
    "        test_loss = 0\n",
    "        test_dice = 0\n",
    "\n",
    "        with torch.no_grad():\n",
    "            for i, (images, labels) in enumerate(test_loader):\n",
    "                images, labels = images.to(device), labels.to(device)\n",
    "                outputs = model(images)\n",
    "                loss = criteria(outputs, labels)\n",
    "                test_loss += loss.item()\n",
    "\n",
    "                # Calculate Dice score\n",
    "                outputs = (outputs > 0.5).float()\n",
    "                dice = dice_coefficient(outputs, labels)\n",
    "                test_dice += dice.item()\n",
    "            \n",
    "            test_losses.append(test_loss / len(test_loader))\n",
    "            test_dice_scores.append(test_dice / len(test_loader))\n",
    "        if (epoch+1)%10 == 0:\n",
    "            print(f'Epoch {epoch+1}/{num_epochs}, Train Loss: {train_losses[-1]:.4f}, Test Loss: {test_losses[-1]:.4f}, Train Dice Score: {train_dice_scores[-1]:.4f}, Test Dice Score: {test_dice_scores[-1]:.4f}')\n",
    "    total = time() - start\n",
    "    plot_title = model_name + \" - lr: \" + str(lr) + \" - Total Time: \" + str(total // 60) + \"min \" + str(total % 60) + \"s \" + \"-Epochs: \" + str(num_epochs)\n",
    "    return plot_title, train_losses, test_losses, train_dice_scores, test_dice_scores"
   ]
  },
  {
   "cell_type": "markdown",
   "metadata": {},
   "source": [
    "### Loading of Warwick dataset"
   ]
  },
  {
   "cell_type": "code",
   "execution_count": 18,
   "metadata": {},
   "outputs": [],
   "source": [
    "\n",
    "def load_warwick():\n",
    "\n",
    "  train_images = []\n",
    "  train_labels = []\n",
    "  test_images = []\n",
    "  test_labels = []\n",
    "\n",
    "  for image_path in sorted(glob.glob(\"WARWICK/WARWICK\" + \"/Train/image_*.png\")):\n",
    "    image = imageio.imread(image_path)\n",
    "    train_images.append(image)\n",
    "  for label_path in sorted(glob.glob(\"WARWICK/WARWICK\" + \"/Train/label_*.png\")):\n",
    "    label = imageio.imread(label_path)\n",
    "    train_labels.append(label)  \n",
    "\n",
    "  for image_path in sorted(glob.glob(\"WARWICK/WARWICK\" + \"/Test/image_*.png\")):\n",
    "    image = imageio.imread(image_path)\n",
    "    test_images.append(image)\n",
    "  for label_path in sorted(glob.glob(\"WARWICK/WARWICK\" + \"/Test/label_*.png\")):\n",
    "    label = imageio.imread(label_path)\n",
    "    test_labels.append(label)\n",
    "\n",
    "  X_train = torch.tensor(np.array(train_images), dtype=torch.float, requires_grad=True).permute(0,3,1,2)\n",
    "  Y_train = torch.tensor(np.array(train_labels), dtype=torch.long)/255\n",
    "  X_test = torch.tensor(np.array(test_images), dtype=torch.float, requires_grad=True).permute(0,3,1,2)\n",
    "  Y_test = torch.tensor(np.array(test_labels), dtype=torch.long)/255\n",
    "\n",
    "  return X_train, Y_train, X_test, Y_test\n",
    "     \n"
   ]
  },
  {
   "cell_type": "code",
   "execution_count": 19,
   "metadata": {},
   "outputs": [],
   "source": [
    "bz = 16\n",
    "X_train, Y_train, X_test, Y_test = load_warwick()\n",
    "# create dataloader\n",
    "train_dataset = torch.utils.data.TensorDataset(X_train, Y_train)\n",
    "test_dataset = torch.utils.data.TensorDataset(X_test, Y_test)\n",
    "train_loader = torch.utils.data.DataLoader(train_dataset, batch_size=bz, shuffle=True)\n",
    "test_loader = torch.utils.data.DataLoader(test_dataset, batch_size=bz, shuffle=False)"
   ]
  },
  {
   "cell_type": "code",
   "execution_count": 20,
   "metadata": {},
   "outputs": [
    {
     "name": "stdout",
     "output_type": "stream",
     "text": [
      "torch.Size([85, 3, 128, 128])\n",
      "torch.Size([85, 128, 128])\n"
     ]
    }
   ],
   "source": [
    "# look at the size of image and label\n",
    "print(X_train.size())\n",
    "print(Y_train.size())\n"
   ]
  },
  {
   "cell_type": "markdown",
   "metadata": {},
   "source": [
    "### Models (i = CNN from last exercise, ii = variant of Unet (no residual connections))"
   ]
  },
  {
   "cell_type": "code",
   "execution_count": 21,
   "metadata": {},
   "outputs": [],
   "source": [
    "class convnetrefurbed(nn.Module):\n",
    "    def __init__(self):\n",
    "        super(convnetrefurbed, self).__init__()\n",
    "        self.conv1 = nn.Conv2d(3, 8, 3, 1, 1)\n",
    "        self.relu1 = nn.ReLU()\n",
    "        self.maxpool1 = nn.MaxPool2d(2, 2)\n",
    "\n",
    "        self.conv2 = nn.Conv2d(8, 16, 3, 1, 1)\n",
    "        self.relu2 = nn.ReLU()\n",
    "        self.maxpool2 = nn.MaxPool2d(2, 2)\n",
    "        \n",
    "        self.conv3 = nn.Conv2d(16, 32, 3, 1, 1)\n",
    "        self.relu3 = nn.ReLU()\n",
    "\n",
    "        self.up1 = nn.ConvTranspose2d(32, 16, 2, 2)\n",
    "        self.relu4 = nn.ReLU()\n",
    "        \n",
    "        self.conv4 = nn.Conv2d(16, 1, 3, 1, 1)\n",
    "        self.up2 = nn.ConvTranspose2d(1, 1, 2, 2)\n",
    "    def forward(self, x):\n",
    "        x = self.conv1(x)\n",
    "        x = self.relu1(x)\n",
    "        x = self.maxpool1(x)\n",
    "\n",
    "        x = self.conv2(x)\n",
    "        x = self.relu2(x)\n",
    "        x = self.maxpool2(x)\n",
    "\n",
    "        x = self.conv3(x)\n",
    "        x = self.relu3(x)\n",
    "\n",
    "        x = self.up1(x)\n",
    "        x = self.relu4(x)\n",
    "\n",
    "        x = self.conv4(x)\n",
    "        x = self.up2(x)\n",
    "        return x.squeeze()\n",
    "\n",
    "        "
   ]
  },
  {
   "cell_type": "code",
   "execution_count": 22,
   "metadata": {},
   "outputs": [],
   "source": [
    "\n",
    "\n",
    "# Define the modified CNN architecture\n",
    "class UNet_Variant(nn.Module):\n",
    "    def __init__(self):\n",
    "        super(UNet_Variant, self).__init__()\n",
    "        # Initialize the layers for 3x128x128 input\n",
    "        self.conv1 = nn.Conv2d(3, 3, 1, 1)\n",
    "        self.relu1 = nn.ReLU()\n",
    "        self.conv2 = nn.Conv2d(3, 3, 1, 1)\n",
    "      \n",
    "        # Max pool and downsampling\n",
    "        self.pool = nn.MaxPool2d(2, 2)\n",
    "        # Initialize the layers for 3x64x64 input\n",
    "        self.conv3 = nn.Conv2d(3, 3, 1, 1)\n",
    "        self.relu2 = nn.ReLU()\n",
    "        self.conv4 = nn.Conv2d(3, 3, 1, 1)\n",
    "        \n",
    "        # Max pool and downsampling\n",
    "        self.pool1 = nn.MaxPool2d(2, 2)\n",
    "        # Initialize the layers for 3x32x32 input\n",
    "        self.conv5 = nn.Conv2d(3, 3, 1, 1)\n",
    "        self.relu3 = nn.ReLU()\n",
    "        self.conv6 = nn.Conv2d(3, 3, 1, 1)\n",
    "        # Max pool and downsampling\n",
    "        self.pool2 = nn.MaxPool2d(2, 2)\n",
    "        # Initialize the layers for 3x16x16 input\n",
    "        self.conv7 = nn.Conv2d(3, 3, 1, 1)\n",
    "        self.relu4 = nn.ReLU()\n",
    "        self.conv8 = nn.Conv2d(3, 3, 1, 1)\n",
    "        \n",
    "        # Upsampling and deconvolution using transposed convolution\n",
    "        self.up1 = nn.ConvTranspose2d(3, 3, 2, 2)\n",
    "        # Initialize the layers for 3x32x32 input\n",
    "        self.conv9 = nn.Conv2d(3, 3, 1, 1)\n",
    "        self.relu5 = nn.ReLU()\n",
    "        self.conv10 = nn.Conv2d(3, 3, 1, 1)\n",
    "        # Upsampling and deconvolution using transposed convolution\n",
    "        self.up2 = nn.ConvTranspose2d(3, 3, 2, 2)\n",
    "        # Initialize the layers for 3x64x64 input\n",
    "        self.conv11 = nn.Conv2d(3, 3, 1, 1)\n",
    "        self.relu6 = nn.ReLU()\n",
    "        self.conv12 = nn.Conv2d(3, 3, 1, 1)\n",
    "        # Upsampling and deconvolution using transposed convolution\n",
    "        self.up3 = nn.ConvTranspose2d(3, 3, 2, 2)\n",
    "        # Initialize the layers for 1x128x128 input\n",
    "        self.conv13 = nn.Conv2d(3, 3, 1, 1)\n",
    "        self.relu7 = nn.ReLU()\n",
    "        self.conv14 = nn.Conv2d(3, 1, 1, 1)\n",
    "\n",
    "        \n",
    "    def forward(self, x):\n",
    "        x = self.conv1(x)\n",
    "        x = self.relu1(x)\n",
    "        x = self.conv2(x)\n",
    "        x = self.pool(x)\n",
    "        x = self.conv3(x)\n",
    "        x = self.relu2(x)\n",
    "        x = self.conv4(x)\n",
    "        x = self.pool1(x)\n",
    "        x = self.conv5(x)\n",
    "        x = self.relu3(x)\n",
    "        x = self.conv6(x)\n",
    "        x = self.pool2(x)\n",
    "        x = self.conv7(x)\n",
    "        x = self.relu4(x)\n",
    "        x = self.conv8(x)\n",
    "        x = self.up1(x)\n",
    "        x = self.conv9(x)\n",
    "        x = self.relu5(x)\n",
    "        x = self.conv10(x)\n",
    "        x = self.up2(x)\n",
    "        x = self.conv11(x)\n",
    "        x = self.relu6(x)\n",
    "        x = self.conv12(x)\n",
    "        x = self.up3(x)\n",
    "        x = self.conv13(x)\n",
    "        x = self.relu7(x)\n",
    "        x = self.conv14(x)\n",
    "\n",
    "        return x.squeeze()\n",
    "\n"
   ]
  },
  {
   "cell_type": "code",
   "execution_count": 23,
   "metadata": {},
   "outputs": [],
   "source": [
    "# Hyperparameters\n",
    "device = torch.device('cuda' if torch.cuda.is_available() else 'cpu')\n",
    "\n",
    "num_epochs = 1000\n",
    "learning_rate = 0.001   \n",
    "criterion = nn.BCEWithLogitsLoss()\n",
    "model = convnetrefurbed().to(device)\n",
    "optimizer = torch.optim.Adam(model.parameters(), lr=learning_rate)\n"
   ]
  },
  {
   "cell_type": "code",
   "execution_count": 24,
   "metadata": {},
   "outputs": [],
   "source": [
    "nets = {}\n"
   ]
  },
  {
   "cell_type": "code",
   "execution_count": 25,
   "metadata": {},
   "outputs": [
    {
     "name": "stdout",
     "output_type": "stream",
     "text": [
      "Epoch 1/1000, Train Loss: 0.7144, Test Loss: 0.6939, Train Dice Score: 0.2716, Test Dice Score: 0.0002\n",
      "Epoch 2/1000, Train Loss: 0.6946, Test Loss: 0.6903, Train Dice Score: 0.0000, Test Dice Score: 0.0000\n",
      "Epoch 3/1000, Train Loss: 0.6928, Test Loss: 0.6907, Train Dice Score: 0.0000, Test Dice Score: 0.0000\n",
      "Epoch 4/1000, Train Loss: 0.6866, Test Loss: 0.6851, Train Dice Score: 0.0000, Test Dice Score: 0.0000\n",
      "Epoch 5/1000, Train Loss: 0.6779, Test Loss: 0.6767, Train Dice Score: 0.0010, Test Dice Score: 0.0057\n",
      "Epoch 6/1000, Train Loss: 0.6621, Test Loss: 0.6793, Train Dice Score: 0.0836, Test Dice Score: 0.3220\n",
      "Epoch 7/1000, Train Loss: 0.6290, Test Loss: 0.6554, Train Dice Score: 0.3774, Test Dice Score: 0.2266\n",
      "Epoch 8/1000, Train Loss: 0.6083, Test Loss: 0.6507, Train Dice Score: 0.4804, Test Dice Score: 0.5447\n",
      "Epoch 9/1000, Train Loss: 0.5814, Test Loss: 0.6052, Train Dice Score: 0.5561, Test Dice Score: 0.5255\n",
      "Epoch 10/1000, Train Loss: 0.5533, Test Loss: 0.6249, Train Dice Score: 0.5949, Test Dice Score: 0.6415\n",
      "Epoch 11/1000, Train Loss: 0.5297, Test Loss: 0.5749, Train Dice Score: 0.6709, Test Dice Score: 0.4749\n",
      "Epoch 12/1000, Train Loss: 0.5260, Test Loss: 0.5576, Train Dice Score: 0.6537, Test Dice Score: 0.6138\n",
      "Epoch 13/1000, Train Loss: 0.5173, Test Loss: 0.5614, Train Dice Score: 0.6772, Test Dice Score: 0.6774\n",
      "Epoch 14/1000, Train Loss: 0.5333, Test Loss: 0.6142, Train Dice Score: 0.6771, Test Dice Score: 0.6554\n",
      "Epoch 15/1000, Train Loss: 0.5347, Test Loss: 0.5661, Train Dice Score: 0.6633, Test Dice Score: 0.6011\n"
     ]
    },
    {
     "ename": "KeyboardInterrupt",
     "evalue": "",
     "output_type": "error",
     "traceback": [
      "\u001b[1;31m---------------------------------------------------------------------------\u001b[0m",
      "\u001b[1;31mKeyboardInterrupt\u001b[0m                         Traceback (most recent call last)",
      "\u001b[1;32m~\\AppData\\Local\\Temp\\ipykernel_28520\\2715859764.py\u001b[0m in \u001b[0;36m<cell line: 0>\u001b[1;34m()\u001b[0m\n\u001b[1;32m----> 1\u001b[1;33m \u001b[0mnets\u001b[0m\u001b[1;33m[\u001b[0m\u001b[1;34m\"cnet\"\u001b[0m\u001b[1;33m]\u001b[0m \u001b[1;33m=\u001b[0m \u001b[0mtrain_network\u001b[0m\u001b[1;33m(\u001b[0m\u001b[0mmodel\u001b[0m\u001b[1;33m,\u001b[0m \u001b[0mcriterion\u001b[0m\u001b[1;33m,\u001b[0m \u001b[0moptimizer\u001b[0m\u001b[1;33m,\u001b[0m \u001b[0mnum_epochs\u001b[0m\u001b[1;33m=\u001b[0m\u001b[0mnum_epochs\u001b[0m\u001b[1;33m,\u001b[0m\u001b[0mtrain_loader\u001b[0m\u001b[1;33m=\u001b[0m\u001b[0mtrain_loader\u001b[0m\u001b[1;33m,\u001b[0m \u001b[0mtest_loader\u001b[0m\u001b[1;33m=\u001b[0m\u001b[0mtest_loader\u001b[0m\u001b[1;33m,\u001b[0m  \u001b[0mdevice\u001b[0m\u001b[1;33m=\u001b[0m\u001b[0mdevice\u001b[0m\u001b[1;33m,\u001b[0m \u001b[0mmodel_name\u001b[0m\u001b[1;33m=\u001b[0m\u001b[1;34m'Modified CNN'\u001b[0m\u001b[1;33m,\u001b[0m \u001b[0mlr\u001b[0m\u001b[1;33m=\u001b[0m\u001b[0mlearning_rate\u001b[0m\u001b[1;33m)\u001b[0m\u001b[1;33m\u001b[0m\u001b[1;33m\u001b[0m\u001b[0m\n\u001b[0m",
      "\u001b[1;32m~\\AppData\\Local\\Temp\\ipykernel_28520\\1487653702.py\u001b[0m in \u001b[0;36mtrain_network\u001b[1;34m(model, criteria, optimizer, num_epochs, train_loader, test_loader, device, model_name, lr)\u001b[0m\n\u001b[0;32m     37\u001b[0m             \u001b[0mloss\u001b[0m \u001b[1;33m=\u001b[0m \u001b[0mcriteria\u001b[0m\u001b[1;33m(\u001b[0m\u001b[0moutputs\u001b[0m\u001b[1;33m,\u001b[0m \u001b[0mlabels\u001b[0m\u001b[1;33m)\u001b[0m\u001b[1;33m\u001b[0m\u001b[1;33m\u001b[0m\u001b[0m\n\u001b[0;32m     38\u001b[0m             \u001b[0mtrain_loss\u001b[0m \u001b[1;33m+=\u001b[0m \u001b[0mloss\u001b[0m\u001b[1;33m.\u001b[0m\u001b[0mitem\u001b[0m\u001b[1;33m(\u001b[0m\u001b[1;33m)\u001b[0m\u001b[1;33m\u001b[0m\u001b[1;33m\u001b[0m\u001b[0m\n\u001b[1;32m---> 39\u001b[1;33m             \u001b[0mloss\u001b[0m\u001b[1;33m.\u001b[0m\u001b[0mbackward\u001b[0m\u001b[1;33m(\u001b[0m\u001b[1;33m)\u001b[0m\u001b[1;33m\u001b[0m\u001b[1;33m\u001b[0m\u001b[0m\n\u001b[0m\u001b[0;32m     40\u001b[0m             \u001b[0moptimizer\u001b[0m\u001b[1;33m.\u001b[0m\u001b[0mstep\u001b[0m\u001b[1;33m(\u001b[0m\u001b[1;33m)\u001b[0m\u001b[1;33m\u001b[0m\u001b[1;33m\u001b[0m\u001b[0m\n\u001b[0;32m     41\u001b[0m \u001b[1;33m\u001b[0m\u001b[0m\n",
      "\u001b[1;32mc:\\Users\\sjobe\\OneDrive - Uppsala universitet\\Farma\\pharmpygui\\Lib\\site-packages\\torch\\_tensor.py\u001b[0m in \u001b[0;36mbackward\u001b[1;34m(self, gradient, retain_graph, create_graph, inputs)\u001b[0m\n\u001b[0;32m    520\u001b[0m                 \u001b[0minputs\u001b[0m\u001b[1;33m=\u001b[0m\u001b[0minputs\u001b[0m\u001b[1;33m,\u001b[0m\u001b[1;33m\u001b[0m\u001b[1;33m\u001b[0m\u001b[0m\n\u001b[0;32m    521\u001b[0m             )\n\u001b[1;32m--> 522\u001b[1;33m         torch.autograd.backward(\n\u001b[0m\u001b[0;32m    523\u001b[0m             \u001b[0mself\u001b[0m\u001b[1;33m,\u001b[0m \u001b[0mgradient\u001b[0m\u001b[1;33m,\u001b[0m \u001b[0mretain_graph\u001b[0m\u001b[1;33m,\u001b[0m \u001b[0mcreate_graph\u001b[0m\u001b[1;33m,\u001b[0m \u001b[0minputs\u001b[0m\u001b[1;33m=\u001b[0m\u001b[0minputs\u001b[0m\u001b[1;33m\u001b[0m\u001b[1;33m\u001b[0m\u001b[0m\n\u001b[0;32m    524\u001b[0m         )\n",
      "\u001b[1;32mc:\\Users\\sjobe\\OneDrive - Uppsala universitet\\Farma\\pharmpygui\\Lib\\site-packages\\torch\\autograd\\__init__.py\u001b[0m in \u001b[0;36mbackward\u001b[1;34m(tensors, grad_tensors, retain_graph, create_graph, grad_variables, inputs)\u001b[0m\n\u001b[0;32m    264\u001b[0m     \u001b[1;31m# some Python versions print out the first line of a multi-line function\u001b[0m\u001b[1;33m\u001b[0m\u001b[1;33m\u001b[0m\u001b[0m\n\u001b[0;32m    265\u001b[0m     \u001b[1;31m# calls in the traceback and some print out the last line\u001b[0m\u001b[1;33m\u001b[0m\u001b[1;33m\u001b[0m\u001b[0m\n\u001b[1;32m--> 266\u001b[1;33m     Variable._execution_engine.run_backward(  # Calls into the C++ engine to run the backward pass\n\u001b[0m\u001b[0;32m    267\u001b[0m         \u001b[0mtensors\u001b[0m\u001b[1;33m,\u001b[0m\u001b[1;33m\u001b[0m\u001b[1;33m\u001b[0m\u001b[0m\n\u001b[0;32m    268\u001b[0m         \u001b[0mgrad_tensors_\u001b[0m\u001b[1;33m,\u001b[0m\u001b[1;33m\u001b[0m\u001b[1;33m\u001b[0m\u001b[0m\n",
      "\u001b[1;31mKeyboardInterrupt\u001b[0m: "
     ]
    }
   ],
   "source": [
    "nets[\"cnet\"] = train_network(model, criterion, optimizer, num_epochs=num_epochs,train_loader=train_loader, test_loader=test_loader,  device=device, model_name='Modified CNN', lr=learning_rate)"
   ]
  },
  {
   "cell_type": "code",
   "execution_count": null,
   "metadata": {},
   "outputs": [],
   "source": [
    "# Plot the loss and dice score\n",
    "training_curve_plot(*nets[\"cnet\"])"
   ]
  },
  {
   "cell_type": "code",
   "execution_count": null,
   "metadata": {},
   "outputs": [],
   "source": [
    "#initilize unet model\n",
    "num_epochs = 1000\n",
    "learning_rate = 0.001\n",
    "device = torch.device('cuda' if torch.cuda.is_available() else 'cpu')\n",
    "model = UNet_Variant().to(device)\n",
    "optimizer = torch.optim.Adam(model.parameters(), lr=learning_rate)\n",
    "criterion = nn.BCEWithLogitsLoss()\n"
   ]
  },
  {
   "cell_type": "code",
   "execution_count": null,
   "metadata": {},
   "outputs": [],
   "source": [
    "nets[\"unet\"] = train_network(model, criterion, optimizer, num_epochs=num_epochs,train_loader=train_loader, test_loader=test_loader,  device=device, model_name='UNet Variant', lr=learning_rate)"
   ]
  }
 ],
 "metadata": {
  "kernelspec": {
   "display_name": "pharmpygui",
   "language": "python",
   "name": "python3"
  },
  "language_info": {
   "codemirror_mode": {
    "name": "ipython",
    "version": 3
   },
   "file_extension": ".py",
   "mimetype": "text/x-python",
   "name": "python",
   "nbconvert_exporter": "python",
   "pygments_lexer": "ipython3",
   "version": "3.11.4"
  }
 },
 "nbformat": 4,
 "nbformat_minor": 2
}
